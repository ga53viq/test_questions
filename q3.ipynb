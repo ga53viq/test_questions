{
  "metadata": {
    "kernelspec": {
      "name": "python",
      "display_name": "Python (Pyodide)",
      "language": "python"
    },
    "language_info": {
      "codemirror_mode": {
        "name": "python",
        "version": 3
      },
      "file_extension": ".py",
      "mimetype": "text/x-python",
      "name": "python",
      "nbconvert_exporter": "python",
      "pygments_lexer": "ipython3",
      "version": "3.8"
    },
    "application/vnd.databricks.v1+notebook": {
      "notebookName": "MP2",
      "dashboards": [],
      "notebookMetadata": {
        "pythonIndentUnit": 2
      },
      "language": "python",
      "widgets": {},
      "notebookOrigID": 1154979929534167
    }
  },
  "nbformat_minor": 4,
  "nbformat": 4,
  "cells": [
    {
      "cell_type": "code",
      "source": "from pyspark.sql.types import StructType, StructField, IntegerType, LongType, FloatType\nfrom pyspark.sql.functions import col\nfrom pyspark.sql.functions import unix_timestamp, to_date, date_format\nfrom pyspark.sql.window import Window \nfrom pyspark.sql.functions import rank \nimport requests",
      "metadata": {
        "application/vnd.databricks.v1+cell": {
          "title": "",
          "showTitle": false,
          "inputWidgets": {},
          "nuid": "cf5fbec8-1938-4065-93c6-23da584af4e1"
        }
      },
      "outputs": [],
      "execution_count": null
    },
    {
      "cell_type": "code",
      "source": "import requests\n\nurl = 'https://wcd-de-labs-files.s3.amazonaws.com/key.json'\n\nresponse = requests.get(url)\ndata = response.json()\nACCESS_KEY = data['key'][0]['access_key']\nSECRET_ACCESS_KEY = data['key'][0]['secret_access_key']\n",
      "metadata": {
        "application/vnd.databricks.v1+cell": {
          "title": "",
          "showTitle": false,
          "inputWidgets": {},
          "nuid": "0d4c23d4-a282-4123-9654-e81f4ee319f5"
        }
      },
      "outputs": [],
      "execution_count": null
    },
    {
      "cell_type": "code",
      "source": "def mount_s3_bucket(access_key, secret_key, bucket_name, mount_folder):\n  ACCESS_KEY_ID = access_key\n  SECRET_ACCESS_KEY = secret_key\n  ENCODED_SECRET_KEY = SECRET_ACCESS_KEY.replace(\"/\", \"%2F\")\n\n  print (\"Mounting\", bucket_name)\n\n  try:\n    # Unmount the data in case it was already mounted.\n    dbutils.fs.unmount(\"/mnt/%s\" % mount_folder)\n    \n  except:\n    # If it fails to unmount it most likely wasn't mounted in the first place\n    print (\"Directory not unmounted: \", mount_folder)\n    \n  finally:\n    # Lastly, mount our bucket.\n    dbutils.fs.mount(\"s3a://%s:%s@%s\" % (ACCESS_KEY_ID, ENCODED_SECRET_KEY, bucket_name), \"/mnt/%s\" % mount_folder)\n    #dbutils.fs.mount(\"s3a://\"+ ACCESS_KEY_ID + \":\" + ENCODED_SECRET_KEY + \"@\" + bucket_name, mount_folder)\n    print (\"The bucket\", bucket_name, \"was mounted to\", mount_folder, \"\\n\")",
      "metadata": {
        "application/vnd.databricks.v1+cell": {
          "title": "",
          "showTitle": false,
          "inputWidgets": {},
          "nuid": "f5e5a524-83a2-4859-b5b9-3e2878fb35dc"
        }
      },
      "outputs": [],
      "execution_count": null
    },
    {
      "cell_type": "code",
      "source": "mount_s3_bucket(ACCESS_KEY, SECRET_ACCESS_KEY, \"weclouddata/datasets/telecom/CDR\", \"cdr\")",
      "metadata": {
        "application/vnd.databricks.v1+cell": {
          "title": "",
          "showTitle": false,
          "inputWidgets": {},
          "nuid": "cb3ec79c-e454-401f-b105-116bd0ce1eff"
        }
      },
      "outputs": [
        {
          "output_type": "display_data",
          "metadata": {
            "application/vnd.databricks.v1+output": {
              "datasetInfos": [],
              "data": "Mounting weclouddata/datasets/telecom/CDR\n/mnt/cdr has been unmounted.\nThe bucket weclouddata/datasets/telecom/CDR was mounted to cdr \n\n",
              "removedWidgets": [],
              "addedWidgets": {},
              "metadata": {},
              "type": "ansi",
              "arguments": {}
            }
          },
          "data": {
            "text/plain": [
              "Mounting weclouddata/datasets/telecom/CDR\n/mnt/cdr has been unmounted.\nThe bucket weclouddata/datasets/telecom/CDR was mounted to cdr \n\n"
            ]
          }
        }
      ],
      "execution_count": null
    },
    {
      "cell_type": "code",
      "source": "%fs ls /mnt/cdr/cdr_by_grid_december/",
      "metadata": {
        "application/vnd.databricks.v1+cell": {
          "title": "",
          "showTitle": false,
          "inputWidgets": {},
          "nuid": "a8ebd25f-189c-4f2a-853b-28190d8863fd"
        }
      },
      "outputs": [
        {
          "output_type": "display_data",
          "metadata": {
            "application/vnd.databricks.v1+output": {
              "overflow": false,
              "datasetInfos": [],
              "data": [
                [
                  "dbfs:/mnt/cdr/cdr_by_grid_december/sms-call-internet-mi-2013-12-01.txt",
                  "sms-call-internet-mi-2013-12-01.txt",
                  298715145,
                  1534382855000
                ],
                [
                  "dbfs:/mnt/cdr/cdr_by_grid_december/sms-call-internet-mi-2013-12-02.txt",
                  "sms-call-internet-mi-2013-12-02.txt",
                  341919663,
                  1534382855000
                ],
                [
                  "dbfs:/mnt/cdr/cdr_by_grid_december/sms-call-internet-mi-2013-12-03.txt",
                  "sms-call-internet-mi-2013-12-03.txt",
                  353947238,
                  1534382855000
                ],
                [
                  "dbfs:/mnt/cdr/cdr_by_grid_december/sms-call-internet-mi-2013-12-04.txt",
                  "sms-call-internet-mi-2013-12-04.txt",
                  352032545,
                  1534382855000
                ],
                [
                  "dbfs:/mnt/cdr/cdr_by_grid_december/sms-call-internet-mi-2013-12-05.txt",
                  "sms-call-internet-mi-2013-12-05.txt",
                  353519447,
                  1534382855000
                ],
                [
                  "dbfs:/mnt/cdr/cdr_by_grid_december/sms-call-internet-mi-2013-12-06.txt",
                  "sms-call-internet-mi-2013-12-06.txt",
                  354028475,
                  1534383133000
                ],
                [
                  "dbfs:/mnt/cdr/cdr_by_grid_december/sms-call-internet-mi-2013-12-07.txt",
                  "sms-call-internet-mi-2013-12-07.txt",
                  307172220,
                  1534383160000
                ],
                [
                  "dbfs:/mnt/cdr/cdr_by_grid_december/sms-call-internet-mi-2013-12-08.txt",
                  "sms-call-internet-mi-2013-12-08.txt",
                  293663723,
                  1534383165000
                ],
                [
                  "dbfs:/mnt/cdr/cdr_by_grid_december/sms-call-internet-mi-2013-12-09.txt",
                  "sms-call-internet-mi-2013-12-09.txt",
                  338963272,
                  1534383165000
                ],
                [
                  "dbfs:/mnt/cdr/cdr_by_grid_december/sms-call-internet-mi-2013-12-10.txt",
                  "sms-call-internet-mi-2013-12-10.txt",
                  349269739,
                  1534383165000
                ],
                [
                  "dbfs:/mnt/cdr/cdr_by_grid_december/sms-call-internet-mi-2013-12-11.txt",
                  "sms-call-internet-mi-2013-12-11.txt",
                  351378560,
                  1534383447000
                ],
                [
                  "dbfs:/mnt/cdr/cdr_by_grid_december/sms-call-internet-mi-2013-12-12.txt",
                  "sms-call-internet-mi-2013-12-12.txt",
                  353930588,
                  1534383448000
                ],
                [
                  "dbfs:/mnt/cdr/cdr_by_grid_december/sms-call-internet-mi-2013-12-13.txt",
                  "sms-call-internet-mi-2013-12-13.txt",
                  351454734,
                  1534383451000
                ],
                [
                  "dbfs:/mnt/cdr/cdr_by_grid_december/sms-call-internet-mi-2013-12-14.txt",
                  "sms-call-internet-mi-2013-12-14.txt",
                  310080286,
                  1534383489000
                ],
                [
                  "dbfs:/mnt/cdr/cdr_by_grid_december/sms-call-internet-mi-2013-12-15.txt",
                  "sms-call-internet-mi-2013-12-15.txt",
                  296653479,
                  1534383492000
                ],
                [
                  "dbfs:/mnt/cdr/cdr_by_grid_december/sms-call-internet-mi-2013-12-16.txt",
                  "sms-call-internet-mi-2013-12-16.txt",
                  342672644,
                  1534383765000
                ],
                [
                  "dbfs:/mnt/cdr/cdr_by_grid_december/sms-call-internet-mi-2013-12-17.txt",
                  "sms-call-internet-mi-2013-12-17.txt",
                  351108029,
                  1534383768000
                ],
                [
                  "dbfs:/mnt/cdr/cdr_by_grid_december/sms-call-internet-mi-2013-12-18.txt",
                  "sms-call-internet-mi-2013-12-18.txt",
                  350956602,
                  1534383768000
                ],
                [
                  "dbfs:/mnt/cdr/cdr_by_grid_december/sms-call-internet-mi-2013-12-19.txt",
                  "sms-call-internet-mi-2013-12-19.txt",
                  356429243,
                  1534383768000
                ],
                [
                  "dbfs:/mnt/cdr/cdr_by_grid_december/sms-call-internet-mi-2013-12-20.txt",
                  "sms-call-internet-mi-2013-12-20.txt",
                  349357045,
                  1534383769000
                ],
                [
                  "dbfs:/mnt/cdr/cdr_by_grid_december/sms-call-internet-mi-2013-12-21.txt",
                  "sms-call-internet-mi-2013-12-21.txt",
                  313594501,
                  1534384058000
                ],
                [
                  "dbfs:/mnt/cdr/cdr_by_grid_december/sms-call-internet-mi-2013-12-22.txt",
                  "sms-call-internet-mi-2013-12-22.txt",
                  301004169,
                  1534384060000
                ],
                [
                  "dbfs:/mnt/cdr/cdr_by_grid_december/sms-call-internet-mi-2013-12-23.txt",
                  "sms-call-internet-mi-2013-12-23.txt",
                  326617616,
                  1534384066000
                ],
                [
                  "dbfs:/mnt/cdr/cdr_by_grid_december/sms-call-internet-mi-2013-12-24.txt",
                  "sms-call-internet-mi-2013-12-24.txt",
                  328653739,
                  1534384071000
                ],
                [
                  "dbfs:/mnt/cdr/cdr_by_grid_december/sms-call-internet-mi-2013-12-25.txt",
                  "sms-call-internet-mi-2013-12-25.txt",
                  324587326,
                  1534384078000
                ],
                [
                  "dbfs:/mnt/cdr/cdr_by_grid_december/sms-call-internet-mi-2013-12-26.txt",
                  "sms-call-internet-mi-2013-12-26.txt",
                  281115796,
                  1534384319000
                ],
                [
                  "dbfs:/mnt/cdr/cdr_by_grid_december/sms-call-internet-mi-2013-12-27.txt",
                  "sms-call-internet-mi-2013-12-27.txt",
                  303320719,
                  1534384323000
                ],
                [
                  "dbfs:/mnt/cdr/cdr_by_grid_december/sms-call-internet-mi-2013-12-28.txt",
                  "sms-call-internet-mi-2013-12-28.txt",
                  285311365,
                  1534384358000
                ],
                [
                  "dbfs:/mnt/cdr/cdr_by_grid_december/sms-call-internet-mi-2013-12-29.txt",
                  "sms-call-internet-mi-2013-12-29.txt",
                  277460259,
                  1534384360000
                ],
                [
                  "dbfs:/mnt/cdr/cdr_by_grid_december/sms-call-internet-mi-2013-12-30.txt",
                  "sms-call-internet-mi-2013-12-30.txt",
                  300546933,
                  1534384360000
                ],
                [
                  "dbfs:/mnt/cdr/cdr_by_grid_december/sms-call-internet-mi-2013-12-31.txt",
                  "sms-call-internet-mi-2013-12-31.txt",
                  324184533,
                  1534384550000
                ],
                [
                  "dbfs:/mnt/cdr/cdr_by_grid_december/sms-call-internet-mi-2014-01-01.txt",
                  "sms-call-internet-mi-2014-01-01.txt",
                  329510085,
                  1534384574000
                ]
              ],
              "plotOptions": {
                "displayType": "table",
                "customPlotOptions": {},
                "pivotColumns": null,
                "pivotAggregation": null,
                "xColumns": null,
                "yColumns": null
              },
              "columnCustomDisplayInfos": {},
              "aggType": "",
              "isJsonSchema": true,
              "removedWidgets": [],
              "aggSchema": [],
              "schema": [
                {
                  "name": "path",
                  "type": "\"string\"",
                  "metadata": "{}"
                },
                {
                  "name": "name",
                  "type": "\"string\"",
                  "metadata": "{}"
                },
                {
                  "name": "size",
                  "type": "\"long\"",
                  "metadata": "{}"
                },
                {
                  "name": "modificationTime",
                  "type": "\"long\"",
                  "metadata": "{}"
                }
              ],
              "aggError": "",
              "aggData": [],
              "addedWidgets": {},
              "metadata": {
                "isDbfsCommandResult": false
              },
              "dbfsResultPath": null,
              "type": "table",
              "aggOverflow": false,
              "aggSeriesLimitReached": false,
              "arguments": {}
            }
          },
          "data": {
            "text/html": [
              "<style scoped>\n  .table-result-container {\n    max-height: 300px;\n    overflow: auto;\n  }\n  table, th, td {\n    border: 1px solid black;\n    border-collapse: collapse;\n  }\n  th, td {\n    padding: 5px;\n  }\n  th {\n    text-align: left;\n  }\n</style><div class='table-result-container'><table class='table-result'><thead style='background-color: white'><tr><th>path</th><th>name</th><th>size</th><th>modificationTime</th></tr></thead><tbody><tr><td>dbfs:/mnt/cdr/cdr_by_grid_december/sms-call-internet-mi-2013-12-01.txt</td><td>sms-call-internet-mi-2013-12-01.txt</td><td>298715145</td><td>1534382855000</td></tr><tr><td>dbfs:/mnt/cdr/cdr_by_grid_december/sms-call-internet-mi-2013-12-02.txt</td><td>sms-call-internet-mi-2013-12-02.txt</td><td>341919663</td><td>1534382855000</td></tr><tr><td>dbfs:/mnt/cdr/cdr_by_grid_december/sms-call-internet-mi-2013-12-03.txt</td><td>sms-call-internet-mi-2013-12-03.txt</td><td>353947238</td><td>1534382855000</td></tr><tr><td>dbfs:/mnt/cdr/cdr_by_grid_december/sms-call-internet-mi-2013-12-04.txt</td><td>sms-call-internet-mi-2013-12-04.txt</td><td>352032545</td><td>1534382855000</td></tr><tr><td>dbfs:/mnt/cdr/cdr_by_grid_december/sms-call-internet-mi-2013-12-05.txt</td><td>sms-call-internet-mi-2013-12-05.txt</td><td>353519447</td><td>1534382855000</td></tr><tr><td>dbfs:/mnt/cdr/cdr_by_grid_december/sms-call-internet-mi-2013-12-06.txt</td><td>sms-call-internet-mi-2013-12-06.txt</td><td>354028475</td><td>1534383133000</td></tr><tr><td>dbfs:/mnt/cdr/cdr_by_grid_december/sms-call-internet-mi-2013-12-07.txt</td><td>sms-call-internet-mi-2013-12-07.txt</td><td>307172220</td><td>1534383160000</td></tr><tr><td>dbfs:/mnt/cdr/cdr_by_grid_december/sms-call-internet-mi-2013-12-08.txt</td><td>sms-call-internet-mi-2013-12-08.txt</td><td>293663723</td><td>1534383165000</td></tr><tr><td>dbfs:/mnt/cdr/cdr_by_grid_december/sms-call-internet-mi-2013-12-09.txt</td><td>sms-call-internet-mi-2013-12-09.txt</td><td>338963272</td><td>1534383165000</td></tr><tr><td>dbfs:/mnt/cdr/cdr_by_grid_december/sms-call-internet-mi-2013-12-10.txt</td><td>sms-call-internet-mi-2013-12-10.txt</td><td>349269739</td><td>1534383165000</td></tr><tr><td>dbfs:/mnt/cdr/cdr_by_grid_december/sms-call-internet-mi-2013-12-11.txt</td><td>sms-call-internet-mi-2013-12-11.txt</td><td>351378560</td><td>1534383447000</td></tr><tr><td>dbfs:/mnt/cdr/cdr_by_grid_december/sms-call-internet-mi-2013-12-12.txt</td><td>sms-call-internet-mi-2013-12-12.txt</td><td>353930588</td><td>1534383448000</td></tr><tr><td>dbfs:/mnt/cdr/cdr_by_grid_december/sms-call-internet-mi-2013-12-13.txt</td><td>sms-call-internet-mi-2013-12-13.txt</td><td>351454734</td><td>1534383451000</td></tr><tr><td>dbfs:/mnt/cdr/cdr_by_grid_december/sms-call-internet-mi-2013-12-14.txt</td><td>sms-call-internet-mi-2013-12-14.txt</td><td>310080286</td><td>1534383489000</td></tr><tr><td>dbfs:/mnt/cdr/cdr_by_grid_december/sms-call-internet-mi-2013-12-15.txt</td><td>sms-call-internet-mi-2013-12-15.txt</td><td>296653479</td><td>1534383492000</td></tr><tr><td>dbfs:/mnt/cdr/cdr_by_grid_december/sms-call-internet-mi-2013-12-16.txt</td><td>sms-call-internet-mi-2013-12-16.txt</td><td>342672644</td><td>1534383765000</td></tr><tr><td>dbfs:/mnt/cdr/cdr_by_grid_december/sms-call-internet-mi-2013-12-17.txt</td><td>sms-call-internet-mi-2013-12-17.txt</td><td>351108029</td><td>1534383768000</td></tr><tr><td>dbfs:/mnt/cdr/cdr_by_grid_december/sms-call-internet-mi-2013-12-18.txt</td><td>sms-call-internet-mi-2013-12-18.txt</td><td>350956602</td><td>1534383768000</td></tr><tr><td>dbfs:/mnt/cdr/cdr_by_grid_december/sms-call-internet-mi-2013-12-19.txt</td><td>sms-call-internet-mi-2013-12-19.txt</td><td>356429243</td><td>1534383768000</td></tr><tr><td>dbfs:/mnt/cdr/cdr_by_grid_december/sms-call-internet-mi-2013-12-20.txt</td><td>sms-call-internet-mi-2013-12-20.txt</td><td>349357045</td><td>1534383769000</td></tr><tr><td>dbfs:/mnt/cdr/cdr_by_grid_december/sms-call-internet-mi-2013-12-21.txt</td><td>sms-call-internet-mi-2013-12-21.txt</td><td>313594501</td><td>1534384058000</td></tr><tr><td>dbfs:/mnt/cdr/cdr_by_grid_december/sms-call-internet-mi-2013-12-22.txt</td><td>sms-call-internet-mi-2013-12-22.txt</td><td>301004169</td><td>1534384060000</td></tr><tr><td>dbfs:/mnt/cdr/cdr_by_grid_december/sms-call-internet-mi-2013-12-23.txt</td><td>sms-call-internet-mi-2013-12-23.txt</td><td>326617616</td><td>1534384066000</td></tr><tr><td>dbfs:/mnt/cdr/cdr_by_grid_december/sms-call-internet-mi-2013-12-24.txt</td><td>sms-call-internet-mi-2013-12-24.txt</td><td>328653739</td><td>1534384071000</td></tr><tr><td>dbfs:/mnt/cdr/cdr_by_grid_december/sms-call-internet-mi-2013-12-25.txt</td><td>sms-call-internet-mi-2013-12-25.txt</td><td>324587326</td><td>1534384078000</td></tr><tr><td>dbfs:/mnt/cdr/cdr_by_grid_december/sms-call-internet-mi-2013-12-26.txt</td><td>sms-call-internet-mi-2013-12-26.txt</td><td>281115796</td><td>1534384319000</td></tr><tr><td>dbfs:/mnt/cdr/cdr_by_grid_december/sms-call-internet-mi-2013-12-27.txt</td><td>sms-call-internet-mi-2013-12-27.txt</td><td>303320719</td><td>1534384323000</td></tr><tr><td>dbfs:/mnt/cdr/cdr_by_grid_december/sms-call-internet-mi-2013-12-28.txt</td><td>sms-call-internet-mi-2013-12-28.txt</td><td>285311365</td><td>1534384358000</td></tr><tr><td>dbfs:/mnt/cdr/cdr_by_grid_december/sms-call-internet-mi-2013-12-29.txt</td><td>sms-call-internet-mi-2013-12-29.txt</td><td>277460259</td><td>1534384360000</td></tr><tr><td>dbfs:/mnt/cdr/cdr_by_grid_december/sms-call-internet-mi-2013-12-30.txt</td><td>sms-call-internet-mi-2013-12-30.txt</td><td>300546933</td><td>1534384360000</td></tr><tr><td>dbfs:/mnt/cdr/cdr_by_grid_december/sms-call-internet-mi-2013-12-31.txt</td><td>sms-call-internet-mi-2013-12-31.txt</td><td>324184533</td><td>1534384550000</td></tr><tr><td>dbfs:/mnt/cdr/cdr_by_grid_december/sms-call-internet-mi-2014-01-01.txt</td><td>sms-call-internet-mi-2014-01-01.txt</td><td>329510085</td><td>1534384574000</td></tr></tbody></table></div>"
            ]
          }
        }
      ],
      "execution_count": null
    },
    {
      "cell_type": "code",
      "source": "cdrFiles = []\n\nfor i in range(1,6):\n  file = f'/mnt/cdr/cdr_by_grid_december/sms-call-internet-mi-2013-12-{i:02}.txt'\n  cdrFiles.append(file)\n\n\ncdrSchema = StructType([\n    StructField(\"square-id\", IntegerType(), True),\n    StructField(\"time-interval\", LongType(), True),\n    StructField(\"country-code\", IntegerType(), True),\n    StructField(\"sms-in-activity\", FloatType(), True),\n    StructField(\"sms-out-activity\", FloatType(), True),\n    StructField(\"call-in-activity\", FloatType(), True),\n    StructField(\"call-out-activity\", FloatType(), True),\n    StructField(\"internet-activity\", FloatType(), True)]\n)\n\ncdr = spark.read \\\n           .option('header', 'true') \\\n           .option('delimiter', '\\t') \\\n           .schema(cdrSchema) \\\n           .csv(cdrFiles)\n\ncdr.show(5)",
      "metadata": {
        "application/vnd.databricks.v1+cell": {
          "title": "",
          "showTitle": false,
          "inputWidgets": {},
          "nuid": "3caec44b-58b7-4f9f-966f-76925c709366"
        }
      },
      "outputs": [
        {
          "output_type": "display_data",
          "metadata": {
            "application/vnd.databricks.v1+output": {
              "datasetInfos": [],
              "data": "+---------+-------------+------------+---------------+----------------+----------------+-----------------+-----------------+\n|square-id|time-interval|country-code|sms-in-activity|sms-out-activity|call-in-activity|call-out-activity|internet-activity|\n+---------+-------------+------------+---------------+----------------+----------------+-----------------+-----------------+\n|        1|1385852400000|          46|           null|            null|            null|             null|      0.026137425|\n|        1|1385853000000|          39|     0.16513683|      0.17639945|     0.030875085|      0.027300464|        13.330858|\n|        1|1385853600000|           0|    0.029087774|     0.027300464|            null|             null|             null|\n|        1|1385853600000|          39|     0.18645109|      0.13658783|     0.054600928|             null|        11.329553|\n|        1|1385854200000|          39|     0.21965227|      0.38112897|      0.08252566|       0.13596356|       13.1661625|\n+---------+-------------+------------+---------------+----------------+----------------+-----------------+-----------------+\nonly showing top 5 rows\n\n",
              "removedWidgets": [],
              "addedWidgets": {},
              "metadata": {},
              "type": "ansi",
              "arguments": {}
            }
          },
          "data": {
            "text/plain": [
              "+---------+-------------+------------+---------------+----------------+----------------+-----------------+-----------------+\n|square-id|time-interval|country-code|sms-in-activity|sms-out-activity|call-in-activity|call-out-activity|internet-activity|\n+---------+-------------+------------+---------------+----------------+----------------+-----------------+-----------------+\n|        1|1385852400000|          46|           null|            null|            null|             null|      0.026137425|\n|        1|1385853000000|          39|     0.16513683|      0.17639945|     0.030875085|      0.027300464|        13.330858|\n|        1|1385853600000|           0|    0.029087774|     0.027300464|            null|             null|             null|\n|        1|1385853600000|          39|     0.18645109|      0.13658783|     0.054600928|             null|        11.329553|\n|        1|1385854200000|          39|     0.21965227|      0.38112897|      0.08252566|       0.13596356|       13.1661625|\n+---------+-------------+------------+---------------+----------------+----------------+-----------------+-----------------+\nonly showing top 5 rows\n\n"
            ]
          }
        }
      ],
      "execution_count": null
    },
    {
      "cell_type": "code",
      "source": "from pyspark.sql.functions import col\ncolumns = cdr.columns\ncdr = cdr.select(*[col(c).alias(c.replace('-', '_')) for c in columns])\ncdr.show(5)",
      "metadata": {
        "application/vnd.databricks.v1+cell": {
          "title": "",
          "showTitle": false,
          "inputWidgets": {},
          "nuid": "8f65efcd-5194-4266-8b40-0252e0b61894"
        }
      },
      "outputs": [
        {
          "output_type": "display_data",
          "metadata": {
            "application/vnd.databricks.v1+output": {
              "datasetInfos": [],
              "data": "+---------+-------------+------------+---------------+----------------+----------------+-----------------+-----------------+\n|square_id|time_interval|country_code|sms_in_activity|sms_out_activity|call_in_activity|call_out_activity|internet_activity|\n+---------+-------------+------------+---------------+----------------+----------------+-----------------+-----------------+\n|        1|1385852400000|          46|           null|            null|            null|             null|      0.026137425|\n|        1|1385853000000|          39|     0.16513683|      0.17639945|     0.030875085|      0.027300464|        13.330858|\n|        1|1385853600000|           0|    0.029087774|     0.027300464|            null|             null|             null|\n|        1|1385853600000|          39|     0.18645109|      0.13658783|     0.054600928|             null|        11.329553|\n|        1|1385854200000|          39|     0.21965227|      0.38112897|      0.08252566|       0.13596356|       13.1661625|\n+---------+-------------+------------+---------------+----------------+----------------+-----------------+-----------------+\nonly showing top 5 rows\n\n",
              "removedWidgets": [],
              "addedWidgets": {},
              "metadata": {},
              "type": "ansi",
              "arguments": {}
            }
          },
          "data": {
            "text/plain": [
              "+---------+-------------+------------+---------------+----------------+----------------+-----------------+-----------------+\n|square_id|time_interval|country_code|sms_in_activity|sms_out_activity|call_in_activity|call_out_activity|internet_activity|\n+---------+-------------+------------+---------------+----------------+----------------+-----------------+-----------------+\n|        1|1385852400000|          46|           null|            null|            null|             null|      0.026137425|\n|        1|1385853000000|          39|     0.16513683|      0.17639945|     0.030875085|      0.027300464|        13.330858|\n|        1|1385853600000|           0|    0.029087774|     0.027300464|            null|             null|             null|\n|        1|1385853600000|          39|     0.18645109|      0.13658783|     0.054600928|             null|        11.329553|\n|        1|1385854200000|          39|     0.21965227|      0.38112897|      0.08252566|       0.13596356|       13.1661625|\n+---------+-------------+------------+---------------+----------------+----------------+-----------------+-----------------+\nonly showing top 5 rows\n\n"
            ]
          }
        }
      ],
      "execution_count": null
    },
    {
      "cell_type": "code",
      "source": "cdr = cdr.select(col('*'), (col('sms_in_activity') / col('sms_out_activity')).alias('sms_ratio'))\ncdr.show(5)",
      "metadata": {
        "application/vnd.databricks.v1+cell": {
          "title": "",
          "showTitle": false,
          "inputWidgets": {},
          "nuid": "576aa8d3-8749-4f7b-a671-1b36737338d0"
        }
      },
      "outputs": [
        {
          "output_type": "display_data",
          "metadata": {
            "application/vnd.databricks.v1+output": {
              "datasetInfos": [],
              "data": "+---------+-------------+------------+---------------+----------------+----------------+-----------------+-----------------+------------------+\n|square_id|time_interval|country_code|sms_in_activity|sms_out_activity|call_in_activity|call_out_activity|internet_activity|         sms_ratio|\n+---------+-------------+------------+---------------+----------------+----------------+-----------------+-----------------+------------------+\n|        1|1385852400000|          46|           null|            null|            null|             null|      0.026137425|              null|\n|        1|1385853000000|          39|     0.16513683|      0.17639945|     0.030875085|      0.027300464|        13.330858|0.9361527194661042|\n|        1|1385853600000|           0|    0.029087774|     0.027300464|            null|             null|             null|1.0654681351520536|\n|        1|1385853600000|          39|     0.18645109|      0.13658783|     0.054600928|             null|        11.329553|1.3650637435968935|\n|        1|1385854200000|          39|     0.21965227|      0.38112897|      0.08252566|       0.13596356|       13.1661625|0.5763200502699052|\n+---------+-------------+------------+---------------+----------------+----------------+-----------------+-----------------+------------------+\nonly showing top 5 rows\n\n",
              "removedWidgets": [],
              "addedWidgets": {},
              "metadata": {},
              "type": "ansi",
              "arguments": {}
            }
          },
          "data": {
            "text/plain": [
              "+---------+-------------+------------+---------------+----------------+----------------+-----------------+-----------------+------------------+\n|square_id|time_interval|country_code|sms_in_activity|sms_out_activity|call_in_activity|call_out_activity|internet_activity|         sms_ratio|\n+---------+-------------+------------+---------------+----------------+----------------+-----------------+-----------------+------------------+\n|        1|1385852400000|          46|           null|            null|            null|             null|      0.026137425|              null|\n|        1|1385853000000|          39|     0.16513683|      0.17639945|     0.030875085|      0.027300464|        13.330858|0.9361527194661042|\n|        1|1385853600000|           0|    0.029087774|     0.027300464|            null|             null|             null|1.0654681351520536|\n|        1|1385853600000|          39|     0.18645109|      0.13658783|     0.054600928|             null|        11.329553|1.3650637435968935|\n|        1|1385854200000|          39|     0.21965227|      0.38112897|      0.08252566|       0.13596356|       13.1661625|0.5763200502699052|\n+---------+-------------+------------+---------------+----------------+----------------+-----------------+-----------------+------------------+\nonly showing top 5 rows\n\n"
            ]
          }
        }
      ],
      "execution_count": null
    },
    {
      "cell_type": "code",
      "source": "from pyspark.sql.functions import to_date, date_format\ncdr = cdr.withColumn(\"date\", (col(\"time_interval\")/1000).cast(\"timestamp\")) \\\n   .withColumn(\"date\", date_format(to_date(col(\"date\")), 'yyyy/MM/dd'))\ncdr.show(5)",
      "metadata": {
        "application/vnd.databricks.v1+cell": {
          "title": "",
          "showTitle": false,
          "inputWidgets": {},
          "nuid": "5a4f4a53-40d4-4163-8e67-d7dd743dc576"
        }
      },
      "outputs": [
        {
          "output_type": "display_data",
          "metadata": {
            "application/vnd.databricks.v1+output": {
              "datasetInfos": [],
              "data": "+---------+-------------+------------+---------------+----------------+----------------+-----------------+-----------------+------------------+----------+\n|square_id|time_interval|country_code|sms_in_activity|sms_out_activity|call_in_activity|call_out_activity|internet_activity|         sms_ratio|      date|\n+---------+-------------+------------+---------------+----------------+----------------+-----------------+-----------------+------------------+----------+\n|        1|1385852400000|          46|           null|            null|            null|             null|      0.026137425|              null|2013/11/30|\n|        1|1385853000000|          39|     0.16513683|      0.17639945|     0.030875085|      0.027300464|        13.330858|0.9361527194661042|2013/11/30|\n|        1|1385853600000|           0|    0.029087774|     0.027300464|            null|             null|             null|1.0654681351520536|2013/11/30|\n|        1|1385853600000|          39|     0.18645109|      0.13658783|     0.054600928|             null|        11.329553|1.3650637435968935|2013/11/30|\n|        1|1385854200000|          39|     0.21965227|      0.38112897|      0.08252566|       0.13596356|       13.1661625|0.5763200502699052|2013/11/30|\n+---------+-------------+------------+---------------+----------------+----------------+-----------------+-----------------+------------------+----------+\nonly showing top 5 rows\n\n",
              "removedWidgets": [],
              "addedWidgets": {},
              "metadata": {},
              "type": "ansi",
              "arguments": {}
            }
          },
          "data": {
            "text/plain": [
              "+---------+-------------+------------+---------------+----------------+----------------+-----------------+-----------------+------------------+----------+\n|square_id|time_interval|country_code|sms_in_activity|sms_out_activity|call_in_activity|call_out_activity|internet_activity|         sms_ratio|      date|\n+---------+-------------+------------+---------------+----------------+----------------+-----------------+-----------------+------------------+----------+\n|        1|1385852400000|          46|           null|            null|            null|             null|      0.026137425|              null|2013/11/30|\n|        1|1385853000000|          39|     0.16513683|      0.17639945|     0.030875085|      0.027300464|        13.330858|0.9361527194661042|2013/11/30|\n|        1|1385853600000|           0|    0.029087774|     0.027300464|            null|             null|             null|1.0654681351520536|2013/11/30|\n|        1|1385853600000|          39|     0.18645109|      0.13658783|     0.054600928|             null|        11.329553|1.3650637435968935|2013/11/30|\n|        1|1385854200000|          39|     0.21965227|      0.38112897|      0.08252566|       0.13596356|       13.1661625|0.5763200502699052|2013/11/30|\n+---------+-------------+------------+---------------+----------------+----------------+-----------------+-----------------+------------------+----------+\nonly showing top 5 rows\n\n"
            ]
          }
        }
      ],
      "execution_count": null
    },
    {
      "cell_type": "markdown",
      "source": "#### 4.4 Calculate summaray statistics at the square_id level\n\nCreate a dataframe calculate the aggregation of: \n*  - `sms_in_activity` ==> mean\n*  - `sms_out_activity` ==> mean\n*  - `call_out_activity` ==> min\n*  - `internet_activity` ==> max\n*  - `all records` ==> count",
      "metadata": {
        "application/vnd.databricks.v1+cell": {
          "title": "",
          "showTitle": false,
          "inputWidgets": {},
          "nuid": "63fa3aba-9486-41de-a43b-6e70059a7d64"
        }
      }
    },
    {
      "cell_type": "code",
      "source": "cdr_agg= cdr.groupby(\"square_id\") \\\n .agg({\"sms_in_activity\": \"mean\", \\\n       \"sms_out_activity\": \"mean\", \\\n       \"call_out_activity\": \"min\", \\\n       \"internet_activity\": \"max\", \\\n       \"*\": \"count\"})",
      "metadata": {
        "application/vnd.databricks.v1+cell": {
          "title": "",
          "showTitle": false,
          "inputWidgets": {},
          "nuid": "3a3347ee-8f3a-401f-8ebd-883af43c63cc"
        }
      },
      "outputs": [],
      "execution_count": null
    },
    {
      "cell_type": "code",
      "source": "from pyspark.sql.functions import *\n\nagg_cols = ['sms_in_activity', 'sms_out_activity','internet_activity','call_in_activity','call_out_activity']\n\ncdr.groupby(\"square_id\") \\\n .agg(*[min(col(c)).alias(c+'_min') for c in agg_cols], *[max(col(c)).alias(c+'_max')  for c in agg_cols])\\\n      .show(5)",
      "metadata": {
        "application/vnd.databricks.v1+cell": {
          "title": "",
          "showTitle": false,
          "inputWidgets": {},
          "nuid": "e62a45a4-6e67-49d1-9d49-6f24110838bb"
        }
      },
      "outputs": [
        {
          "output_type": "display_data",
          "metadata": {
            "application/vnd.databricks.v1+output": {
              "datasetInfos": [],
              "data": "+---------+-------------------+--------------------+---------------------+--------------------+---------------------+-------------------+--------------------+---------------------+--------------------+---------------------+\n|square_id|sms_in_activity_min|sms_out_activity_min|internet_activity_min|call_in_activity_min|call_out_activity_min|sms_in_activity_max|sms_out_activity_max|internet_activity_max|call_in_activity_max|call_out_activity_max|\n+---------+-------------------+--------------------+---------------------+--------------------+---------------------+-------------------+--------------------+---------------------+--------------------+---------------------+\n|     1088|        0.020871513|         0.020871513|          0.020871513|         0.020871513|          0.020871513|         0.54749453|           2.6005592|            11.037694|           0.8147374|            1.1373159|\n|     1238|        0.028927796|         0.028927796|          0.028927796|         0.028927796|          0.028927796|           2.236176|            2.647902|            38.695675|           2.0182087|             2.261069|\n|     1342|         0.07374897|          0.07374897|           0.07374897|          0.07374897|           0.07374897|          2.5074651|            2.654963|            42.553158|           1.5487283|            1.9174732|\n|      148|        0.085676275|         0.085676275|          0.085676275|         0.085676275|          0.085676275|           9.075446|           5.9389133|            128.35962|           6.8407445|            7.1247945|\n|     1580|       0.0015186457|        0.0015186457|         0.0015186457|        0.0015186457|         0.0015186457|          5.4615974|           2.0246944|             34.00702|           3.3710263|             2.894858|\n+---------+-------------------+--------------------+---------------------+--------------------+---------------------+-------------------+--------------------+---------------------+--------------------+---------------------+\nonly showing top 5 rows\n\n",
              "removedWidgets": [],
              "addedWidgets": {},
              "metadata": {},
              "type": "ansi",
              "arguments": {}
            }
          },
          "data": {
            "text/plain": [
              "+---------+-------------------+--------------------+---------------------+--------------------+---------------------+-------------------+--------------------+---------------------+--------------------+---------------------+\n|square_id|sms_in_activity_min|sms_out_activity_min|internet_activity_min|call_in_activity_min|call_out_activity_min|sms_in_activity_max|sms_out_activity_max|internet_activity_max|call_in_activity_max|call_out_activity_max|\n+---------+-------------------+--------------------+---------------------+--------------------+---------------------+-------------------+--------------------+---------------------+--------------------+---------------------+\n|     1088|        0.020871513|         0.020871513|          0.020871513|         0.020871513|          0.020871513|         0.54749453|           2.6005592|            11.037694|           0.8147374|            1.1373159|\n|     1238|        0.028927796|         0.028927796|          0.028927796|         0.028927796|          0.028927796|           2.236176|            2.647902|            38.695675|           2.0182087|             2.261069|\n|     1342|         0.07374897|          0.07374897|           0.07374897|          0.07374897|           0.07374897|          2.5074651|            2.654963|            42.553158|           1.5487283|            1.9174732|\n|      148|        0.085676275|         0.085676275|          0.085676275|         0.085676275|          0.085676275|           9.075446|           5.9389133|            128.35962|           6.8407445|            7.1247945|\n|     1580|       0.0015186457|        0.0015186457|         0.0015186457|        0.0015186457|         0.0015186457|          5.4615974|           2.0246944|             34.00702|           3.3710263|             2.894858|\n+---------+-------------------+--------------------+---------------------+--------------------+---------------------+-------------------+--------------------+---------------------+--------------------+---------------------+\nonly showing top 5 rows\n\n"
            ]
          }
        }
      ],
      "execution_count": null
    },
    {
      "cell_type": "code",
      "source": "cdr_sms_in = cdr.filter('sms_in_activity is not null').groupBy('country_code','date').count().sort('country_code','date').withColumnRenamed('count', 'sms_in')\ncdr_sms_out = cdr.filter('sms_out_activity is not null').groupBy('country_code','date').count().sort('country_code','date').withColumnRenamed('count', 'sms_out')\ncdr_call_in = cdr.filter('call_in_activity is not null').groupBy('country_code','date').count().sort('country_code','date').withColumnRenamed('count', 'call_in')\ncdr_call_out = cdr.filter('call_out_activity is not null').groupBy('country_code','date').count().sort('country_code','date').withColumnRenamed('count', 'call_out')\ncdr_internet = cdr.filter('internet_activity is not null').groupBy('country_code','date').count().sort('country_code','date').withColumnRenamed('count', 'internet')\n\n# create a framework to list all the coutry_code and date\ncdr_country_date_frame = cdr.select('country_code').distinct().join(cdr.select('date').distinct(), how='cross').sort('country_code','date')\n\n# Use the framework to left join all the above dataframes\ncdr_count = cdr_country_date_frame \\\n            .join(cdr_sms_in, ['country_code', 'date'], how='left') \\\n            .join(cdr_sms_out, ['country_code', 'date'], how='left') \\\n            .join(cdr_call_in, ['country_code', 'date'], how='left') \\\n            .join(cdr_call_out, ['country_code', 'date'], how='left') \\\n            .join(cdr_internet, ['country_code', 'date'], how='left') \n\ncdr_sum = cdr_count.select(col('country_code'), col('date'),(col('sms_in')+col('sms_out')).alias('sms'), (col('call_in')+col('call_out')).alias('call'), col('internet')).sort('country_code','date' )\n\ncdr_sum.show()",
      "metadata": {
        "application/vnd.databricks.v1+cell": {
          "title": "",
          "showTitle": false,
          "inputWidgets": {},
          "nuid": "01c2bf46-229d-45b4-b287-4593207d843e"
        }
      },
      "outputs": [
        {
          "output_type": "display_data",
          "metadata": {
            "application/vnd.databricks.v1+output": {
              "datasetInfos": [],
              "data": "+------------+----------+-------+------+--------+\n|country_code|      date|    sms|  call|internet|\n+------------+----------+-------+------+--------+\n|           0|2013/11/30|  18218|  1946|    null|\n|           0|2013/12/01|1131484|280328|      85|\n|           0|2013/12/02|1199033|377085|     425|\n|           0|2013/12/03|1245675|383305|     217|\n|           0|2013/12/04|1217394|392471|     164|\n|           0|2013/12/05|1211760|381485|    1033|\n|           1|2013/11/30|   1244|   213|    1491|\n|           1|2013/12/01|  20978| 10940|   29182|\n|           1|2013/12/02|  25937| 18258|   40073|\n|           1|2013/12/03|  24742| 18160|   46107|\n|           1|2013/12/04|  23898| 19276|   44993|\n|           1|2013/12/05|  26274| 18382|   39517|\n|           7|2013/11/30|    495|    26|     299|\n|           7|2013/12/01|  13670| 10995|    7864|\n|           7|2013/12/02|  21548| 16103|    6284|\n|           7|2013/12/03|  22037| 15906|    8173|\n|           7|2013/12/04|  24318| 17180|    8850|\n|           7|2013/12/05|  26181| 18065|    8842|\n|          20|2013/11/30|    265|  1692|    null|\n|          20|2013/12/01|  15871|136971|      14|\n+------------+----------+-------+------+--------+\nonly showing top 20 rows\n\n",
              "removedWidgets": [],
              "addedWidgets": {},
              "metadata": {},
              "type": "ansi",
              "arguments": {}
            }
          },
          "data": {
            "text/plain": [
              "+------------+----------+-------+------+--------+\n|country_code|      date|    sms|  call|internet|\n+------------+----------+-------+------+--------+\n|           0|2013/11/30|  18218|  1946|    null|\n|           0|2013/12/01|1131484|280328|      85|\n|           0|2013/12/02|1199033|377085|     425|\n|           0|2013/12/03|1245675|383305|     217|\n|           0|2013/12/04|1217394|392471|     164|\n|           0|2013/12/05|1211760|381485|    1033|\n|           1|2013/11/30|   1244|   213|    1491|\n|           1|2013/12/01|  20978| 10940|   29182|\n|           1|2013/12/02|  25937| 18258|   40073|\n|           1|2013/12/03|  24742| 18160|   46107|\n|           1|2013/12/04|  23898| 19276|   44993|\n|           1|2013/12/05|  26274| 18382|   39517|\n|           7|2013/11/30|    495|    26|     299|\n|           7|2013/12/01|  13670| 10995|    7864|\n|           7|2013/12/02|  21548| 16103|    6284|\n|           7|2013/12/03|  22037| 15906|    8173|\n|           7|2013/12/04|  24318| 17180|    8850|\n|           7|2013/12/05|  26181| 18065|    8842|\n|          20|2013/11/30|    265|  1692|    null|\n|          20|2013/12/01|  15871|136971|      14|\n+------------+----------+-------+------+--------+\nonly showing top 20 rows\n\n"
            ]
          }
        }
      ],
      "execution_count": null
    },
    {
      "cell_type": "code",
      "source": "cdr_sum_path = \"/tmp/cdr_sum.csv\"\n\n(cdr_sum.write                       \n  .option(\"delimiter\", \"\\t\")  \n  .option(\"header\", \"true\")\n  .mode(\"overwrite\")               \n  .parquet(cdr_sum_path)               \n)",
      "metadata": {
        "application/vnd.databricks.v1+cell": {
          "title": "",
          "showTitle": false,
          "inputWidgets": {},
          "nuid": "a1e41701-d60c-42eb-aa3e-6c9ba6f64398"
        }
      },
      "outputs": [],
      "execution_count": null
    },
    {
      "cell_type": "code",
      "source": "from pyspark.sql.window import Window \nfrom pyspark.sql.functions import rank \n\nwSpec3 = Window.partitionBy(\"country_code\").orderBy(\"internet\")\n\ncdr_sum.withColumn(\"rank\", rank().over(wSpec3)).select('country_code','date','rank').show(10)",
      "metadata": {
        "application/vnd.databricks.v1+cell": {
          "title": "",
          "showTitle": false,
          "inputWidgets": {},
          "nuid": "cf30b56d-ead4-4a3a-91b2-16e49a24cd97"
        }
      },
      "outputs": [
        {
          "output_type": "display_data",
          "metadata": {
            "application/vnd.databricks.v1+output": {
              "datasetInfos": [],
              "data": "+------------+----------+----+\n|country_code|      date|rank|\n+------------+----------+----+\n|           0|2013/11/30|   1|\n|           0|2013/12/01|   2|\n|           0|2013/12/04|   3|\n|           0|2013/12/03|   4|\n|           0|2013/12/02|   5|\n|           0|2013/12/05|   6|\n|           1|2013/11/30|   1|\n|           1|2013/12/01|   2|\n|           1|2013/12/05|   3|\n|           1|2013/12/02|   4|\n+------------+----------+----+\nonly showing top 10 rows\n\n",
              "removedWidgets": [],
              "addedWidgets": {},
              "metadata": {},
              "type": "ansi",
              "arguments": {}
            }
          },
          "data": {
            "text/plain": [
              "+------------+----------+----+\n|country_code|      date|rank|\n+------------+----------+----+\n|           0|2013/11/30|   1|\n|           0|2013/12/01|   2|\n|           0|2013/12/04|   3|\n|           0|2013/12/03|   4|\n|           0|2013/12/02|   5|\n|           0|2013/12/05|   6|\n|           1|2013/11/30|   1|\n|           1|2013/12/01|   2|\n|           1|2013/12/05|   3|\n|           1|2013/12/02|   4|\n+------------+----------+----+\nonly showing top 10 rows\n\n"
            ]
          }
        }
      ],
      "execution_count": null
    }
  ]
}